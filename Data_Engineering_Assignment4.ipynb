{
 "cells": [
  {
   "cell_type": "markdown",
   "id": "7a11c92e",
   "metadata": {},
   "source": [
    "### Question 1\n",
    "#### Create a list by picking odd index from first list and even index from the second list and gather them in a new list"
   ]
  },
  {
   "cell_type": "code",
   "execution_count": 1,
   "id": "2b616f50",
   "metadata": {},
   "outputs": [
    {
     "name": "stdout",
     "output_type": "stream",
     "text": [
      "[2, 4, 10, 30, 50]\n"
     ]
    }
   ],
   "source": [
    "def create_new_list(list1, list2):\n",
    "    new_list = []\n",
    "    \n",
    "    # Picking odd-indexed elements from the first list\n",
    "    for i in range(1, len(list1), 2):\n",
    "        new_list.append(list1[i])\n",
    "    \n",
    "    # Picking even-indexed elements from the second list\n",
    "    for i in range(0, len(list2), 2):\n",
    "        new_list.append(list2[i])\n",
    "    \n",
    "    return new_list\n",
    "\n",
    "# Example lists\n",
    "list1 = [1, 2, 3, 4, 5]\n",
    "list2 = [10, 20, 30, 40, 50]\n",
    "\n",
    "result_list = create_new_list(list1, list2)\n",
    "print(result_list)"
   ]
  },
  {
   "cell_type": "markdown",
   "id": "424524b7",
   "metadata": {},
   "source": [
    "### Question 2\n",
    "#### Write a program to remove the item the 4th index and add it to the second position at the end of list "
   ]
  },
  {
   "cell_type": "code",
   "execution_count": 2,
   "id": "9c679f39",
   "metadata": {},
   "outputs": [
    {
     "name": "stdout",
     "output_type": "stream",
     "text": [
      "Original list: [1, 2, 3, 4, 5, 6, 7]\n",
      "Modified list: [1, 5, 2, 3, 4, 6, 7, 5]\n"
     ]
    }
   ],
   "source": [
    "def move_item_to_second_and_end(lst):\n",
    "    if len(lst) > 4:\n",
    "        item_to_move = lst.pop(4)\n",
    "        lst.insert(1, item_to_move)\n",
    "        lst.append(item_to_move)\n",
    "    else:\n",
    "        print(\"The list doesn't have enough elements to perform the operation.\")\n",
    "\n",
    "# Example list\n",
    "my_list = [1, 2, 3, 4, 5, 6, 7]\n",
    "\n",
    "print(\"Original list:\", my_list)\n",
    "move_item_to_second_and_end(my_list)\n",
    "print(\"Modified list:\", my_list)\n"
   ]
  },
  {
   "cell_type": "markdown",
   "id": "b22aed1f",
   "metadata": {},
   "source": [
    "### Question 3\n",
    "#### Slice a list into 3 equal chunks and revers each chunk"
   ]
  },
  {
   "cell_type": "code",
   "execution_count": 3,
   "id": "1364d420",
   "metadata": {},
   "outputs": [
    {
     "name": "stdout",
     "output_type": "stream",
     "text": [
      "Original list: [1, 2, 3, 4, 5, 6, 7, 8, 9]\n",
      "Reversed chunks: [[3, 2, 1], [6, 5, 4], [9, 8, 7]]\n"
     ]
    }
   ],
   "source": [
    "def slice_and_reverse_chunks(my_list):\n",
    "    chunk_size = len(my_list) // 3\n",
    "    chunks = [my_list[i:i + chunk_size] for i in range(0, len(my_list), chunk_size)]\n",
    "    \n",
    "    reversed_chunks = [chunk[::-1] for chunk in chunks]\n",
    "    return reversed_chunks\n",
    "\n",
    "# Example list\n",
    "my_list = [1, 2, 3, 4, 5, 6, 7, 8, 9]\n",
    "\n",
    "print(\"Original list:\", my_list)\n",
    "reversed_chunks = slice_and_reverse_chunks(my_list)\n",
    "print(\"Reversed chunks:\", reversed_chunks)"
   ]
  },
  {
   "cell_type": "markdown",
   "id": "f434d661",
   "metadata": {},
   "source": [
    "### Quetion 4 \n",
    "#### Count the occurrence of each item in list and make a dictionary to show the count of each element "
   ]
  },
  {
   "cell_type": "code",
   "execution_count": 4,
   "id": "d4d18127",
   "metadata": {},
   "outputs": [
    {
     "name": "stdout",
     "output_type": "stream",
     "text": [
      "Occurrences dictionary: {1: 8, 2: 2, 3: 3, 4: 9}\n"
     ]
    }
   ],
   "source": [
    "def count_occurrences(lst):\n",
    "    occurrences = {}\n",
    "    for item in lst:\n",
    "        if item in occurrences:\n",
    "            occurrences[item] += 1\n",
    "        else:\n",
    "            occurrences[item] = 1\n",
    "    return occurrences\n",
    "\n",
    "# Example list\n",
    "my_list = [1, 1, 1, 1, 1, 1, 1, 1, 2, 2, 3, 3, 3, 4, 4, 4, 4, 4, 4, 4, 4, 4]\n",
    "\n",
    "occurrences_dict = count_occurrences(my_list)\n",
    "print(\"Occurrences dictionary:\", occurrences_dict)"
   ]
  },
  {
   "cell_type": "markdown",
   "id": "53b7fab3",
   "metadata": {},
   "source": [
    "### Question 5\n",
    "#### Create a python set that shows the element from two lists in pair"
   ]
  },
  {
   "cell_type": "code",
   "execution_count": 5,
   "id": "5c38b339",
   "metadata": {},
   "outputs": [
    {
     "name": "stdout",
     "output_type": "stream",
     "text": [
      "Element pairs set: [(1, 1), (2, 4), (3, 9)]\n"
     ]
    }
   ],
   "source": [
    "def create_element_pairs_set(list1, list2):\n",
    "    pairs_set = [(elem1, elem2) for elem1, elem2 in zip(list1, list2)]\n",
    "    return pairs_set\n",
    "\n",
    "# Example lists\n",
    "list1 = [1, 2, 3]\n",
    "list2 = [1, 4, 9]\n",
    "\n",
    "pairs_set = create_element_pairs_set(list1, list2)\n",
    "print(\"Element pairs set:\", pairs_set)"
   ]
  },
  {
   "cell_type": "markdown",
   "id": "6c1622f9",
   "metadata": {},
   "source": [
    "### Question 6 \n",
    "#### Find the intersection of 2 sets and remove them form the first set "
   ]
  },
  {
   "cell_type": "code",
   "execution_count": 6,
   "id": "809140e5",
   "metadata": {},
   "outputs": [
    {
     "name": "stdout",
     "output_type": "stream",
     "text": [
      "Set 1 before: {1, 2, 3, 4, 5}\n",
      "Set 2: {4, 5, 6, 7, 8}\n",
      "Set 1 after removing intersection: {1, 2, 3}\n"
     ]
    }
   ],
   "source": [
    "def remove_intersection(set1, set2):\n",
    "    intersection = set1.intersection(set2)\n",
    "    set1.difference_update(intersection)\n",
    "\n",
    "# Example sets\n",
    "set1 = {1, 2, 3, 4, 5}\n",
    "set2 = {4, 5, 6, 7, 8}\n",
    "\n",
    "print(\"Set 1 before:\", set1)\n",
    "print(\"Set 2:\", set2)\n",
    "\n",
    "remove_intersection(set1, set2)\n",
    "\n",
    "print(\"Set 1 after removing intersection:\", set1)"
   ]
  },
  {
   "cell_type": "markdown",
   "id": "644278a8",
   "metadata": {},
   "source": [
    "### Question 7\n",
    "#### Check if a set is a subset or superset of another set. if found delete all elements from that set "
   ]
  },
  {
   "cell_type": "code",
   "execution_count": 7,
   "id": "e7fa93a4",
   "metadata": {},
   "outputs": [
    {
     "name": "stdout",
     "output_type": "stream",
     "text": [
      "Set 1 before: {1, 2, 3, 4}\n",
      "Set 2: {1, 2, 3, 4, 5}\n",
      "Set 1 after deleting if subset/superset: set()\n"
     ]
    }
   ],
   "source": [
    "def delete_if_subset_or_superset(set1, set2):\n",
    "    if set1.issubset(set2) or set1.issuperset(set2):\n",
    "        set1.clear()\n",
    "\n",
    "# Example sets\n",
    "set1 = {1, 2, 3, 4}\n",
    "set2 = {1, 2, 3, 4, 5}\n",
    "\n",
    "print(\"Set 1 before:\", set1)\n",
    "print(\"Set 2:\", set2)\n",
    "\n",
    "delete_if_subset_or_superset(set1, set2)\n",
    "\n",
    "print(\"Set 1 after deleting if subset/superset:\", set1)"
   ]
  },
  {
   "cell_type": "markdown",
   "id": "999ac1e2",
   "metadata": {},
   "source": [
    "### Question 8\n",
    "#### Iterates a given list [47, 67, 69, 37, 76, 83, 95, 97] and check if a given element exist as a key value's in a dictionary dictionary = { 'jhon' : 47 , 'imma' : 69, 'kelly' : 76, 'jason' : 97} if not delete it from thd list "
   ]
  },
  {
   "cell_type": "code",
   "execution_count": 8,
   "id": "dbfbe3a7",
   "metadata": {},
   "outputs": [
    {
     "name": "stdout",
     "output_type": "stream",
     "text": [
      "Filtered list: [47, 69, 76, 97]\n"
     ]
    }
   ],
   "source": [
    "def filter_list_by_dictionary(given_list, dictionary):\n",
    "    new_list = [element for element in given_list if element in dictionary.values()]\n",
    "    return new_list\n",
    "\n",
    "# Given list and dictionary\n",
    "my_list = [47, 67, 69, 37, 76, 83, 95, 97]\n",
    "my_dict = {'jhon': 47, 'imma': 69, 'kelly': 76, 'jason': 97}\n",
    "\n",
    "filtered_list = filter_list_by_dictionary(my_list, my_dict)\n",
    "print(\"Filtered list:\", filtered_list)"
   ]
  },
  {
   "cell_type": "markdown",
   "id": "e7a8b5b5",
   "metadata": {},
   "source": [
    "### Question 9\n",
    "#### Write a code to get all values from the dictionary and add them to a list but do not add duplicates "
   ]
  },
  {
   "cell_type": "code",
   "execution_count": 9,
   "id": "fa52cdef",
   "metadata": {},
   "outputs": [
    {
     "name": "stdout",
     "output_type": "stream",
     "text": [
      "Unique values list: [10, 20, 30]\n"
     ]
    }
   ],
   "source": [
    "def get_unique_values_from_dict(dictionary):\n",
    "    values_list = list(set(dictionary.values()))\n",
    "    return values_list\n",
    "\n",
    "# Example dictionary\n",
    "my_dict = {'key1': 10, 'key2': 20, 'key3': 10, 'key4': 30}\n",
    "\n",
    "unique_values_list = get_unique_values_from_dict(my_dict)\n",
    "print(\"Unique values list:\", unique_values_list)"
   ]
  },
  {
   "cell_type": "code",
   "execution_count": null,
   "id": "d6640a97",
   "metadata": {},
   "outputs": [],
   "source": []
  },
  {
   "cell_type": "code",
   "execution_count": null,
   "id": "4bfc816e",
   "metadata": {},
   "outputs": [],
   "source": []
  }
 ],
 "metadata": {
  "kernelspec": {
   "display_name": "Python 3 (ipykernel)",
   "language": "python",
   "name": "python3"
  },
  "language_info": {
   "codemirror_mode": {
    "name": "ipython",
    "version": 3
   },
   "file_extension": ".py",
   "mimetype": "text/x-python",
   "name": "python",
   "nbconvert_exporter": "python",
   "pygments_lexer": "ipython3",
   "version": "3.11.4"
  }
 },
 "nbformat": 4,
 "nbformat_minor": 5
}
